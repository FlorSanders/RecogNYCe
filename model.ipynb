{
 "cells": [
  {
   "cell_type": "markdown",
   "metadata": {},
   "source": [
    "# DLCV Project\n",
    "\n",
    "TODO\n",
    "- [ ] Load data\n",
    "- [ ] Find model\n",
    "- [ ] Train model with transfer learning\n",
    "- [ ] Compare with random choices\n",
    "- [ ] Compare with prior random choices\n",
    "- [ ] Compare with small shallow cnn classifier (w/o transfer learning) \n",
    "- [ ] Compare with human results\n",
    "\n",
    "Visualizations\n",
    "- [ ] Classification errors on map\n",
    "- [ ] Confusion matrix\n",
    "- [ ] Where our models score in the distribution of users\n",
    "\n"
   ]
  },
  {
   "cell_type": "markdown",
   "metadata": {},
   "source": []
  },
  {
   "cell_type": "code",
   "execution_count": null,
   "metadata": {},
   "outputs": [],
   "source": []
  },
  {
   "cell_type": "code",
   "execution_count": null,
   "metadata": {},
   "outputs": [],
   "source": []
  },
  {
   "cell_type": "code",
   "execution_count": null,
   "metadata": {},
   "outputs": [],
   "source": []
  }
 ],
 "metadata": {
  "kernelspec": {
   "display_name": "Python 3",
   "language": "python",
   "name": "python3"
  },
  "language_info": {
   "codemirror_mode": {
    "name": "ipython",
    "version": 3
   },
   "file_extension": ".py",
   "mimetype": "text/x-python",
   "name": "python",
   "nbconvert_exporter": "python",
   "pygments_lexer": "ipython3",
   "version": "3.10.12"
  },
  "orig_nbformat": 4
 },
 "nbformat": 4,
 "nbformat_minor": 2
}

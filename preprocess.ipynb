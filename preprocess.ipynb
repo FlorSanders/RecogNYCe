{
 "cells": [
  {
   "cell_type": "code",
   "execution_count": 67,
   "metadata": {
    "colab": {
     "base_uri": "https://localhost:8080/"
    },
    "id": "p6hFD1qQcSwu",
    "outputId": "b09069b6-0e08-4f55-9699-10e4945986ae"
   },
   "outputs": [
    {
     "name": "stdout",
     "output_type": "stream",
     "text": [
      "Drive already mounted at /content/drive; to attempt to forcibly remount, call drive.mount(\"/content/drive\", force_remount=True).\n"
     ]
    }
   ],
   "source": [
    "# To run in Colab\n",
    "\n",
    "#from google.colab import drive\n",
    "#drive.mount('/content/drive')\n",
    "\n",
    "# Unzipping the directory\n",
    "# !pip install patool\n",
    "# import patoolib\n",
    "# patoolib.extract_archive('/content/drive/MyDrive/Assignments/Deep Learning for Computer Vision/Project/data.zip')"
   ]
  },
  {
   "cell_type": "code",
   "execution_count": 57,
   "metadata": {},
   "outputs": [],
   "source": [
    "# To run locally\n",
    "# If we need to unzip"
   ]
  },
  {
   "cell_type": "code",
   "execution_count": 2,
   "metadata": {
    "id": "mDDCMEVHhJOT"
   },
   "outputs": [],
   "source": [
    "import pandas as pd\n",
    "from sklearn.model_selection import train_test_split\n",
    "import cv2\n",
    "import torch\n",
    "from torch.utils.data import Dataset, DataLoader"
   ]
  },
  {
   "cell_type": "code",
   "execution_count": 3,
   "metadata": {
    "id": "2Ykgb5mReRAQ"
   },
   "outputs": [],
   "source": [
    "# Colab\n",
    "#my_path = '/content/data/all/data.csv'\n",
    "\n",
    "# Local\n",
    "my_path = '~/Downloads/data/all/data.csv'\n",
    "\n",
    "df = pd.read_csv(my_path)\n",
    "df = df[['path', 'borough']]\n",
    "train_df, test_df = train_test_split(df, random_state = 3, test_size = 0.2)\n",
    "val_df, test_df = train_test_split(test_df, random_state = 3, test_size = 0.5)"
   ]
  },
  {
   "cell_type": "code",
   "execution_count": 5,
   "metadata": {
    "colab": {
     "base_uri": "https://localhost:8080/",
     "height": 206
    },
    "id": "z13QgcCAfrGN",
    "outputId": "6f29ad00-c500-4831-8f10-98fcc58fa361"
   },
   "outputs": [
    {
     "data": {
      "text/html": [
       "<div>\n",
       "<style scoped>\n",
       "    .dataframe tbody tr th:only-of-type {\n",
       "        vertical-align: middle;\n",
       "    }\n",
       "\n",
       "    .dataframe tbody tr th {\n",
       "        vertical-align: top;\n",
       "    }\n",
       "\n",
       "    .dataframe thead th {\n",
       "        text-align: right;\n",
       "    }\n",
       "</style>\n",
       "<table border=\"1\" class=\"dataframe\">\n",
       "  <thead>\n",
       "    <tr style=\"text-align: right;\">\n",
       "      <th></th>\n",
       "      <th>path</th>\n",
       "      <th>borough</th>\n",
       "    </tr>\n",
       "  </thead>\n",
       "  <tbody>\n",
       "    <tr>\n",
       "      <th>34833</th>\n",
       "      <td>./data/all/Brooklyn/540593097940529.jpg</td>\n",
       "      <td>Brooklyn</td>\n",
       "    </tr>\n",
       "    <tr>\n",
       "      <th>3363</th>\n",
       "      <td>./data/all/Queens/479092496643392.jpg</td>\n",
       "      <td>Queens</td>\n",
       "    </tr>\n",
       "    <tr>\n",
       "      <th>8144</th>\n",
       "      <td>./data/all/Manhattan/1674814212725568.jpg</td>\n",
       "      <td>Manhattan</td>\n",
       "    </tr>\n",
       "    <tr>\n",
       "      <th>13877</th>\n",
       "      <td>./data/all/Queens/3930874653663554.jpg</td>\n",
       "      <td>Queens</td>\n",
       "    </tr>\n",
       "    <tr>\n",
       "      <th>14423</th>\n",
       "      <td>./data/all/Queens/3051687035117658.jpg</td>\n",
       "      <td>Queens</td>\n",
       "    </tr>\n",
       "  </tbody>\n",
       "</table>\n",
       "</div>"
      ],
      "text/plain": [
       "                                            path    borough\n",
       "34833    ./data/all/Brooklyn/540593097940529.jpg   Brooklyn\n",
       "3363       ./data/all/Queens/479092496643392.jpg     Queens\n",
       "8144   ./data/all/Manhattan/1674814212725568.jpg  Manhattan\n",
       "13877     ./data/all/Queens/3930874653663554.jpg     Queens\n",
       "14423     ./data/all/Queens/3051687035117658.jpg     Queens"
      ]
     },
     "execution_count": 5,
     "metadata": {},
     "output_type": "execute_result"
    }
   ],
   "source": [
    "train_df.head()"
   ]
  },
  {
   "cell_type": "code",
   "execution_count": 44,
   "metadata": {
    "colab": {
     "base_uri": "https://localhost:8080/"
    },
    "id": "WbYdjgeSj0eJ",
    "outputId": "27fcb735-606d-420e-8a5c-060d899c775e"
   },
   "outputs": [
    {
     "name": "stdout",
     "output_type": "stream",
     "text": [
      "./data/all/Brooklyn/540593097940529.jpg\n",
      "~/Downloads/data/all/Staten Island/362372405549249.jpg\n"
     ]
    }
   ],
   "source": [
    "for index in range(len(train_df)):\n",
    "  if index == 0:\n",
    "    print(train_df.iloc[index][0])\n",
    "    path = df.iloc[index][0].split('.')\n",
    "    path = '~/Downloads' + path[1] + '.' + path[2]\n",
    "    print(path)"
   ]
  },
  {
   "cell_type": "code",
   "execution_count": 54,
   "metadata": {
    "id": "py5gzz65hfXg"
   },
   "outputs": [],
   "source": [
    "# Defining a custom dataset\n",
    "class CustomDataset(Dataset):\n",
    "    def __init__(self, df):                   # The initialization function iterates over all image files and creates a list\n",
    "        self.data = []\n",
    "        for index in range(len(df)):                       # For each image file\n",
    "          path = df.iloc[index][0].split('.')\n",
    "          path = '/Users/VassilisPanousopoulos/Downloads' + path[1] + '.' + path[2]\n",
    "          if index == 0:\n",
    "              print(path)\n",
    "          category = df.iloc[index][1]             # Manipulate the string to find the class label\n",
    "          self.data.append([path, category])\n",
    "        self.class_map = {\"Bronx\" : 0, \"Brooklyn\": 1,\"Manhattan\": 2, \"Queens\": 3, \"Staten Island\": 4}\n",
    "\n",
    "    def __len__(self):                                # The mandatory __len__ method returns the size of the dataset\n",
    "        return len(self.data)\n",
    "\n",
    "    def __getitem__(self, idx):                       # The mandatory __getitem__ method returns an image with its label\n",
    "        img_path, class_name = self.data[idx]         # for a given index\n",
    "        print(img_path, class_name)\n",
    "        img = cv2.imread(img_path)                    # Reading the image, resizing, finding the label and appropriate preprocessing\n",
    "        class_id = self.class_map[class_name]\n",
    "        img_tensor = torch.from_numpy(img)\n",
    "        img_tensor = img_tensor.permute(2, 0, 1)\n",
    "        class_id = torch.tensor([class_id])\n",
    "        return img_tensor, class_id"
   ]
  },
  {
   "cell_type": "code",
   "execution_count": 55,
   "metadata": {
    "id": "_xDz1VIVlqm0"
   },
   "outputs": [
    {
     "name": "stdout",
     "output_type": "stream",
     "text": [
      "/Users/VassilisPanousopoulos/Downloads/data/all/Brooklyn/540593097940529.jpg\n",
      "/Users/VassilisPanousopoulos/Downloads/data/all/Manhattan/382622079686691.jpg\n",
      "/Users/VassilisPanousopoulos/Downloads/data/all/Brooklyn/391667738085900.jpg\n"
     ]
    }
   ],
   "source": [
    "train_set = CustomDataset(train_df)\n",
    "val_set = CustomDataset(val_df)\n",
    "test_set = CustomDataset(test_df)"
   ]
  },
  {
   "cell_type": "code",
   "execution_count": 51,
   "metadata": {
    "id": "-H4hPO6snmte"
   },
   "outputs": [],
   "source": [
    "train_loader = DataLoader(train_set, batch_size=100, shuffle=True)\n",
    "val_loader = DataLoader(val_set, batch_size=100, shuffle=False)\n",
    "test_loader = DataLoader(test_set, batch_size=100, shuffle=False)"
   ]
  }
 ],
 "metadata": {
  "colab": {
   "provenance": []
  },
  "kernelspec": {
   "display_name": "Python 3 (ipykernel)",
   "language": "python",
   "name": "python3"
  },
  "language_info": {
   "codemirror_mode": {
    "name": "ipython",
    "version": 3
   },
   "file_extension": ".py",
   "mimetype": "text/x-python",
   "name": "python",
   "nbconvert_exporter": "python",
   "pygments_lexer": "ipython3",
   "version": "3.8.2"
  }
 },
 "nbformat": 4,
 "nbformat_minor": 4
}
